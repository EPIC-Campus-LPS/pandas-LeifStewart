{
 "cells": [
  {
   "cell_type": "markdown",
   "metadata": {},
   "source": [
    "# Lab 0.5 - Manipulating Datasets with Pandas\n",
    "\n",
    "## Objective\n",
    "- Install and learn the basics of the `pandas` library.\n",
    "- Manipulate and analyze datasets, finding basic statistics and adding/removing columns.\n",
    "- Create data visualizations using `matplotlib`.\n",
    "\n",
    "## Rubric\n",
    "- 6 pts - Contains all required components and uses professional language and commenting\n",
    "- 5 pts - Contains all required components, but uses unprofessional language, commenting, etc. \n",
    "- 4 pts - Contains some, but not all, of the required components\n",
    "- 3 pts - Did not submit"
   ]
  },
  {
   "cell_type": "markdown",
   "metadata": {},
   "source": [
    "# Instructions\n",
    "\n",
    "Fill in the following code boxes. **Answer the numbered questions in comments next to the code you used to find the answer**."
   ]
  },
  {
   "cell_type": "markdown",
   "metadata": {},
   "source": [
    "# Problem 1: Weather Data\n",
    "\n",
    "We are going to analyze the dataset you created. Use `import pandas as pd` to import the `pandas` library. Then use `df = pd.read_csv(\"filename.csv\")` to create a `DataFrame` called `df`. "
   ]
  },
  {
   "cell_type": "code",
   "execution_count": 6,
   "metadata": {},
   "outputs": [],
   "source": [
    "import pandas as pd\n",
    "df = pd.read_csv(\"weather.csv\")"
   ]
  },
  {
   "cell_type": "markdown",
   "metadata": {},
   "source": [
    "### `pandas` method reference\n",
    "\n",
    "- `df.head(x)` and `df.tail(x)` will give you the first or the last `x` number of rows respectively\n",
    "- `df.describe()` will give you a **five number summary** of the numeric columns\n",
    "- `df.max()` and `.min()` will with you the maximum and the minimum of the column repectively\n",
    "- `df[column]` will give you the column specified\n",
    "- `df.iloc[index]` will give you the row at a given index\n",
    "- `df.boxplot` will create a box plot of all numeric columns\n",
    "- `df.sort_values(by=col, ascending=False)`sorts the values of the col in either ascending or descending order\n"
   ]
  },
  {
   "cell_type": "markdown",
   "metadata": {},
   "source": [
    "1. What is the last entry in your table?"
   ]
  },
  {
   "cell_type": "code",
   "execution_count": 7,
   "metadata": {},
   "outputs": [
    {
     "data": {
      "text/html": [
       "<div>\n",
       "<style scoped>\n",
       "    .dataframe tbody tr th:only-of-type {\n",
       "        vertical-align: middle;\n",
       "    }\n",
       "\n",
       "    .dataframe tbody tr th {\n",
       "        vertical-align: top;\n",
       "    }\n",
       "\n",
       "    .dataframe thead th {\n",
       "        text-align: right;\n",
       "    }\n",
       "</style>\n",
       "<table border=\"1\" class=\"dataframe\">\n",
       "  <thead>\n",
       "    <tr style=\"text-align: right;\">\n",
       "      <th></th>\n",
       "      <th>datetime</th>\n",
       "      <th>temp_c</th>\n",
       "      <th>temp_f</th>\n",
       "      <th>humidity</th>\n",
       "    </tr>\n",
       "  </thead>\n",
       "  <tbody>\n",
       "    <tr>\n",
       "      <th>23</th>\n",
       "      <td>2025-02-01 19:08:00</td>\n",
       "      <td>20.0</td>\n",
       "      <td>68.0</td>\n",
       "      <td>24.3%</td>\n",
       "    </tr>\n",
       "  </tbody>\n",
       "</table>\n",
       "</div>"
      ],
      "text/plain": [
       "               datetime  temp_c temp_f humidity\n",
       "23  2025-02-01 19:08:00    20.0   68.0    24.3%"
      ]
     },
     "execution_count": 7,
     "metadata": {},
     "output_type": "execute_result"
    }
   ],
   "source": [
    "df.tail(1)"
   ]
  },
  {
   "cell_type": "markdown",
   "metadata": {},
   "source": [
    "2. What is the average temperature(either outside or inside) over your 40 hour period. What is the lowest temperature? What is the highest temperature? "
   ]
  },
  {
   "cell_type": "code",
   "execution_count": 8,
   "metadata": {},
   "outputs": [
    {
     "data": {
      "text/html": [
       "<div>\n",
       "<style scoped>\n",
       "    .dataframe tbody tr th:only-of-type {\n",
       "        vertical-align: middle;\n",
       "    }\n",
       "\n",
       "    .dataframe tbody tr th {\n",
       "        vertical-align: top;\n",
       "    }\n",
       "\n",
       "    .dataframe thead th {\n",
       "        text-align: right;\n",
       "    }\n",
       "</style>\n",
       "<table border=\"1\" class=\"dataframe\">\n",
       "  <thead>\n",
       "    <tr style=\"text-align: right;\">\n",
       "      <th></th>\n",
       "      <th>temp_c</th>\n",
       "    </tr>\n",
       "  </thead>\n",
       "  <tbody>\n",
       "    <tr>\n",
       "      <th>count</th>\n",
       "      <td>24.000000</td>\n",
       "    </tr>\n",
       "    <tr>\n",
       "      <th>mean</th>\n",
       "      <td>20.695833</td>\n",
       "    </tr>\n",
       "    <tr>\n",
       "      <th>std</th>\n",
       "      <td>0.746865</td>\n",
       "    </tr>\n",
       "    <tr>\n",
       "      <th>min</th>\n",
       "      <td>20.000000</td>\n",
       "    </tr>\n",
       "    <tr>\n",
       "      <th>25%</th>\n",
       "      <td>20.000000</td>\n",
       "    </tr>\n",
       "    <tr>\n",
       "      <th>50%</th>\n",
       "      <td>20.400000</td>\n",
       "    </tr>\n",
       "    <tr>\n",
       "      <th>75%</th>\n",
       "      <td>21.325000</td>\n",
       "    </tr>\n",
       "    <tr>\n",
       "      <th>max</th>\n",
       "      <td>22.200000</td>\n",
       "    </tr>\n",
       "  </tbody>\n",
       "</table>\n",
       "</div>"
      ],
      "text/plain": [
       "          temp_c\n",
       "count  24.000000\n",
       "mean   20.695833\n",
       "std     0.746865\n",
       "min    20.000000\n",
       "25%    20.000000\n",
       "50%    20.400000\n",
       "75%    21.325000\n",
       "max    22.200000"
      ]
     },
     "execution_count": 8,
     "metadata": {},
     "output_type": "execute_result"
    }
   ],
   "source": [
    "df.describe()"
   ]
  },
  {
   "cell_type": "markdown",
   "metadata": {},
   "source": [
    "3. Create a boxplot of the temperatures."
   ]
  },
  {
   "cell_type": "code",
   "execution_count": 9,
   "metadata": {},
   "outputs": [
    {
     "data": {
      "text/plain": [
       "<bound method boxplot_frame of                datetime  temp_c      temp_f humidity\n",
       "0   2025-01-31 20:31:00    21.7        71.1    22.5%\n",
       "1   2025-01-31 21:01:00    21.7        71.1    21.9%\n",
       "2   2025-01-31 22:07:00    22.1  71.8.22.0%      NaN\n",
       "3   2025-01-31 23:02:00    21.5        70.7    20.9%\n",
       "4   2025-02-01 00:02:00    21.3        70.3    21.6%\n",
       "5   2025-02-01 01:07:00    22.2        72.0    22.5%\n",
       "6   2025-02-01 02:07:00    21.4        70.5    22.5%\n",
       "7   2025-02-01 03:02:00    21.1        70.0    22.7%\n",
       "8   2025-02-01 04:02:00    21.0        69.8    22.9%\n",
       "9   2025-02-01 05:12:00    20.7        69.3    23.0%\n",
       "10  2025-02-01 06:07:00    20.6        69.1    23.1%\n",
       "11  2025-02-01 07:02:00    20.5        68.9    23.2%\n",
       "12  2025-02-01 08:07:00    20.3        68.5    23.1%\n",
       "13  2025-02-01 09:02:00    20.3        68.5    23.2%\n",
       "14  2025-02-01 10:02:00    20.1        68.2    23.3%\n",
       "15  2025-02-01 11:07:00    20.1        68.2    23.4%\n",
       "16  2025-02-01 12:03:00    20.1        68.2    23.5%\n",
       "17  2025-02-01 13:03:00    20.0        68.0    23.6%\n",
       "18  2025-02-01 14:03:00    20.0        68.0    23.7%\n",
       "19  2025-02-01 15:08:00    20.0        68.0    23.8%\n",
       "20  2025-02-01 16:03:00    20.0        68.0    23.9%\n",
       "21  2025-02-01 17:08:00    20.0        68.0    24.1%\n",
       "22  2025-02-01 18:03:00    20.0        68.0    24.2%\n",
       "23  2025-02-01 19:08:00    20.0        68.0    24.3%>"
      ]
     },
     "execution_count": 9,
     "metadata": {},
     "output_type": "execute_result"
    }
   ],
   "source": [
    "df.boxplot"
   ]
  },
  {
   "cell_type": "markdown",
   "metadata": {},
   "source": [
    "4. Create a plot of temperature over time with `matplotlib`. \n",
    "\n",
    "Import the library with `import matplotlib.pyplot as plt`. The `plot()` method creates a line graphs of temperature over time. Use `plt.plot(df['x_col'],df['y_col'],marker='h')` then `plt.show()` to create your plot of temperature over time. \n",
    "\n",
    "Before `plt.show()`, add the following methods to modify your graph. Remember, **good graphs always have axis labels, a title, clear units etc.**\n",
    "\n",
    "```\n",
    "plt.xlabel('') # labels the x-axis\n",
    "plt.ylabel('') # labels the y-axis\n",
    "plt.title('') # adds a graph title\n",
    "plt.grid() # adds gridlines\n",
    "plt.legend() # adds a legend\n",
    "plt.xticks(rotation=90) # rotates the x-axis tick lables\n",
    "plt.yticks(rotation=90) # rotates the y-axis tick lables\n",
    "```"
   ]
  },
  {
   "cell_type": "code",
   "execution_count": 10,
   "metadata": {},
   "outputs": [
    {
     "data": {
      "image/png": "[encoded data removed]",
      "text/plain": [
       "<Figure size 640x480 with 1 Axes>"
      ]
     },
     "metadata": {},
     "output_type": "display_data"
    }
   ],
   "source": [
    "import matplotlib.pyplot as plt\n",
    "plt.plot(df['datetime'],df['temp_c'],marker='h')\n",
    "plt.xlabel('Date/Time')\n",
    "plt.ylabel('Temperature (C)')\n",
    "plt.title('Hourly Weather Data For 24 Hours')\n",
    "plt.grid()\n",
    "plt.xticks(rotation=90)\n",
    "plt.show()\n"
   ]
  },
  {
   "cell_type": "markdown",
   "metadata": {},
   "source": [
    "5. Define a new column called `kelvin` which is your `celsius` column + 273.15. "
   ]
  },
  {
   "cell_type": "code",
   "execution_count": 11,
   "metadata": {},
   "outputs": [
    {
     "name": "stdout",
     "output_type": "stream",
     "text": [
      "Updated file saved as sweater.csv\n"
     ]
    }
   ],
   "source": [
    "import csv\n",
    "\n",
    "# Input and output file names\n",
    "input_file = \"weatherbackup.csv\"\n",
    "output_file = \"sweater.csv\"\n",
    "\n",
    "# Read the original CSV and process the data\n",
    "with open(input_file, mode='r', newline='') as infile:\n",
    "    reader = csv.reader(infile)\n",
    "    data = [row for row in reader]\n",
    "\n",
    "    # Add header for Kelvin column\n",
    "    data[0].append(\"temp_k\")\n",
    "\n",
    "    # Convert Celsius to Kelvin and append\n",
    "    for row in data[1:]:\n",
    "        temp_c = float(row[1])  # Celsius temperature\n",
    "        temp_k = temp_c + 273.15  # Convert to Kelvin\n",
    "        row.append(f\"{temp_k:.2f}\")  # Append formatted Kelvin value\n",
    "\n",
    "# Write the updated data to a new CSV file\n",
    "with open(output_file, mode='w', newline='') as outfile:\n",
    "    writer = csv.writer(outfile)\n",
    "    writer.writerows(data)\n",
    "\n",
    "print(f\"Updated file saved as {output_file}\")\n"
   ]
  },
  {
   "cell_type": "markdown",
   "metadata": {},
   "source": [
    "6. Get the record(row) at 2:30PM \n"
   ]
  },
  {
   "cell_type": "code",
   "execution_count": 12,
   "metadata": {},
   "outputs": [
    {
     "name": "stdout",
     "output_type": "stream",
     "text": [
      "Data at 2:07:\n",
      "              datetime  temp_c temp_f humidity  temp_k\n",
      "6 2025-02-01 02:07:00    21.4   70.5    22.5%  294.55\n"
     ]
    }
   ],
   "source": [
    "import pandas as pd\n",
    "\n",
    "# Load the CSV file into a sweater weather\n",
    "df = pd.read_csv(\"sweater.csv\")\n",
    "\n",
    "# Convert the 'datetime' column to datetime format\n",
    "df[\"datetime\"] = pd.to_datetime(df[\"datetime\"])\n",
    "\n",
    "# Filter rows where the time is 02:30 (ignoring the date)\n",
    "filtered_rows = df[df[\"datetime\"].dt.strftime(\"%H:%M\") == \"02:07\"]\n",
    "\n",
    "# Print results\n",
    "if not filtered_rows.empty:\n",
    "    print(\"Data at 2:07:\\n\", filtered_rows)\n",
    "else:\n",
    "    print(\"No data found for 2:07.\")\n"
   ]
  },
  {
   "cell_type": "markdown",
   "metadata": {},
   "source": [
    "# Problem 2: Population Data\n",
    "\n",
    "In this example we will fetch data about countries and their predicted populations from [Wikipedia](http://en.wikipedia.org/wiki/List_of_countries_by_past_and_future_population).\n",
    "\n",
    "I have done the web scraping and creation of a `DataFrame`,`df_a`."
   ]
  },
  {
   "cell_type": "code",
   "execution_count": 13,
   "metadata": {},
   "outputs": [
    {
     "name": "stdout",
     "output_type": "stream",
     "text": [
      "                       countries        2024        2030         2100\n",
      "0                          World  8118836000  8546141000  10349323000\n",
      "1                           Asia  4785060000  4958807000   4674249000\n",
      "2                         Africa  1494994000  1710666000   3924421000\n",
      "3             Sub-Saharan Africa  1226534000  1417346000   3442347000\n",
      "4    Central Asia and South Asia  2128585000  2258687000   2559659000\n",
      "..                           ...         ...         ...          ...\n",
      "253                    Venezuela    29395334    32027461     35353213\n",
      "254                      Vietnam    99497680   102699905     91036732\n",
      "255                        Yemen    35219853    39923245     74176034\n",
      "256                       Zambia    21314956    25024901     64473916\n",
      "257                     Zimbabwe    16634373    18610348     37166572\n",
      "\n",
      "[258 rows x 4 columns]\n"
     ]
    }
   ],
   "source": [
    "import numpy as np\n",
    "import pandas as pd\n",
    "import requests\n",
    "from bs4 import BeautifulSoup\n",
    "\n",
    "\n",
    "url = 'http://en.wikipedia.org/wiki/List_of_countries_by_past_and_future_population'\n",
    "page = requests.get(url)\n",
    "soup = BeautifulSoup(page.content, \"html.parser\")\n",
    "\n",
    "tbody = soup.find_all(\"tbody\")\n",
    "tr = tbody[0].find_all(\"tr\")\n",
    "arr = []\n",
    "mat = []\n",
    "for t in tr:\n",
    "    lst = t.text.split(\"\\n\")\n",
    "    for l in lst:\n",
    "        if l == \"\":\n",
    "            if arr != []:\n",
    "                arr = arr[0:2] + arr[2::2]\n",
    "                mat.append(arr)\n",
    "                arr = []\n",
    "        else:\n",
    "            try:\n",
    "                arr.append(int(l.lstrip('\\xa0').replace(\",\",\"\")))\n",
    "            except ValueError:\n",
    "                arr.append(str(l.lstrip('\\xa0').replace(\",\",\"\")))\n",
    "titles = mat[0]\n",
    "titles[0] = \"countries\"\n",
    "mat = mat[1:]\n",
    "df_a = pd.DataFrame.from_records(mat, columns=titles)\n",
    "print(df_a)"
   ]
  },
  {
   "cell_type": "markdown",
   "metadata": {},
   "source": [
    "1. A 5 number summary of `df_a`"
   ]
  },
  {
   "cell_type": "code",
   "execution_count": 14,
   "metadata": {},
   "outputs": [
    {
     "name": "stdout",
     "output_type": "stream",
     "text": [
      "               2024          2030          2100\n",
      "count  2.580000e+02  2.580000e+02  2.580000e+02\n",
      "mean   1.409838e+08  1.483421e+08  1.758736e+08\n",
      "std    6.587727e+08  6.906787e+08  8.173571e+08\n",
      "min    5.260000e+02  5.610000e+02  1.237000e+03\n",
      "25%    5.999040e+05  6.259820e+05  6.768595e+05\n",
      "50%    6.893438e+06  7.254900e+06  8.156020e+06\n",
      "75%    3.483818e+07  3.830878e+07  5.201191e+07\n",
      "max    8.118836e+09  8.546141e+09  1.034932e+10\n"
     ]
    }
   ],
   "source": [
    "print(df_a.describe())"
   ]
  },
  {
   "cell_type": "markdown",
   "metadata": {},
   "source": [
    "2. How is the `DataFrame` currently indexed? If it is not already, make the `countries` column the index."
   ]
  },
  {
   "cell_type": "code",
   "execution_count": 15,
   "metadata": {},
   "outputs": [
    {
     "name": "stdout",
     "output_type": "stream",
     "text": [
      "                                   2024        2030         2100\n",
      "countries                                                       \n",
      "World                        8118836000  8546141000  10349323000\n",
      "Asia                         4785060000  4958807000   4674249000\n",
      "Africa                       1494994000  1710666000   3924421000\n",
      "Sub-Saharan Africa           1226534000  1417346000   3442347000\n",
      "Central Asia and South Asia  2128585000  2258687000   2559659000\n",
      "...                                 ...         ...          ...\n",
      "Venezuela                      29395334    32027461     35353213\n",
      "Vietnam                        99497680   102699905     91036732\n",
      "Yemen                          35219853    39923245     74176034\n",
      "Zambia                         21314956    25024901     64473916\n",
      "Zimbabwe                       16634373    18610348     37166572\n",
      "\n",
      "[258 rows x 3 columns]\n"
     ]
    }
   ],
   "source": [
    "#Currently they are indexed by assigning a random number to each country, and then each nation is displayed based on it's number.\n",
    "df_a.set_index('countries',inplace=True)\n",
    "print(df_a)"
   ]
  },
  {
   "cell_type": "markdown",
   "metadata": {},
   "source": [
    "3. What is the largest population listed for 2030?"
   ]
  },
  {
   "cell_type": "code",
   "execution_count": 16,
   "metadata": {},
   "outputs": [
    {
     "name": "stdout",
     "output_type": "stream",
     "text": [
      "8546141000\n"
     ]
    }
   ],
   "source": [
    "highest=0\n",
    "for high in df_a[2030]:\n",
    "    if high > highest:\n",
    "        highest=high\n",
    "print(highest)"
   ]
  },
  {
   "cell_type": "markdown",
   "metadata": {},
   "source": [
    "4. What was the population of Austria from now to 2100?"
   ]
  },
  {
   "cell_type": "code",
   "execution_count": 17,
   "metadata": {},
   "outputs": [
    {
     "name": "stdout",
     "output_type": "stream",
     "text": [
      "Population in 2024; 9120813\n",
      "Population in 2030; 9080346\n",
      "Population in 2100; 7399328\n"
     ]
    }
   ],
   "source": [
    "row=df_a.loc[\"Austria\"]\n",
    "print(\"Population in 2024; \"+str(row[2024]))\n",
    "print(\"Population in 2030; \"+str(row[2030]))\n",
    "print(\"Population in 2100; \"+str(row[2100]))\n",
    "\n"
   ]
  },
  {
   "cell_type": "markdown",
   "metadata": {},
   "source": [
    "5. What will the population be of France in 2030?"
   ]
  },
  {
   "cell_type": "code",
   "execution_count": 18,
   "metadata": {},
   "outputs": [
    {
     "name": "stdout",
     "output_type": "stream",
     "text": [
      "The population of France in 2030 will be: 65543452\n"
     ]
    }
   ],
   "source": [
    "row = df_a.loc[\"France\"]\n",
    "print(\"The population of France in 2030 will be: \"+str(row[2030]))"
   ]
  },
  {
   "cell_type": "markdown",
   "metadata": {},
   "source": [
    "6. What 5 entries will have the highest population in 2100? Display their records."
   ]
  },
  {
   "cell_type": "code",
   "execution_count": 19,
   "metadata": {},
   "outputs": [
    {
     "name": "stdout",
     "output_type": "stream",
     "text": [
      "countries\n",
      "World                          10349323000\n",
      "Asia                            4674249000\n",
      "Africa                          3924421000\n",
      "Sub-Saharan Africa              3442347000\n",
      "Central Asia and South Asia     2559659000\n",
      "Name: 2100, dtype: int64\n"
     ]
    }
   ],
   "source": [
    "print((df_a[2100]).sort_values(ascending=False).head(5))"
   ]
  },
  {
   "cell_type": "markdown",
   "metadata": {},
   "source": [
    "7. What was country with the smallest population in 2024?"
   ]
  },
  {
   "cell_type": "code",
   "execution_count": 20,
   "metadata": {},
   "outputs": [
    {
     "name": "stdout",
     "output_type": "stream",
     "text": [
      "countries\n",
      "Vatican City    526\n",
      "Name: 2024, dtype: int64\n"
     ]
    }
   ],
   "source": [
    "print(df_a[2024].sort_values(ascending=False).tail(1))"
   ]
  },
  {
   "cell_type": "markdown",
   "metadata": {},
   "source": [
    "8. Create a plot with `plot()` to compare the population of Austria, Germany, United States, and France from 2024-2100. Your graph needs to include a  proper title, axis labels, and legend."
   ]
  },
  {
   "cell_type": "code",
   "execution_count": 34,
   "metadata": {},
   "outputs": [
    {
     "name": "stderr",
     "output_type": "stream",
     "text": [
      "/tmp/ipykernel_663/2968795923.py:10: UserWarning: No artists with labels found to put in legend.  Note that artists whose label start with an underscore are ignored when legend() is called with no argument.\n",
      "  plt.legend()\n"
     ]
    },
    {
     "data": {
      "image/png": "[encoded data removed]",
      "text/plain": [
       "<Figure size 640x480 with 1 Axes>"
      ]
     },
     "metadata": {},
     "output_type": "display_data"
    }
   ],
   "source": [
    "import matplotlib.pyplot as plt\n",
    "plt.plot(df_a.loc['Germany'], marker=\"h\")\n",
    "plt.plot(df_a.loc[\"Austria\"], marker=\"h\")\n",
    "plt.plot(df_a.loc[\"United States\"], marker=\"h\")\n",
    "plt.plot(df_a.loc[\"France\"], marker=\"h\")\n",
    "plt.xlabel('Year')\n",
    "plt.ylabel('Population (Millions)')\n",
    "plt.title('Population of Austria, Germany, United States, France')\n",
    "plt.grid()\n",
    "plt.xticks(rotation=90)\n",
    "plt.show()"
   ]
  }
 ],
 "metadata": {
  "kernelspec": {
   "display_name": "Python 3",
   "language": "python",
   "name": "python3"
  },
  "language_info": {
   "codemirror_mode": {
    "name": "ipython",
    "version": 3
   },
   "file_extension": ".py",
   "mimetype": "text/x-python",
   "name": "python",
   "nbconvert_exporter": "python",
   "pygments_lexer": "ipython3",
   "version": "3.12.8"
  }
 },
 "nbformat": 4,
 "nbformat_minor": 2
}
